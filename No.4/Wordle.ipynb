{
 "cells": [
  {
   "cell_type": "code",
   "execution_count": 25,
   "metadata": {},
   "outputs": [],
   "source": [
    "# Wordle @ PyCon US 2022"
   ]
  },
  {
   "cell_type": "code",
   "execution_count": 26,
   "metadata": {},
   "outputs": [],
   "source": [
    "import json\n",
    "import random\n",
    "from base64 import b64decode, b64encode\n",
    "\n",
    "\"\"\"\n",
    "import js\n",
    "from js import fetch\n",
    "res = await fetch(\"https://raw.githubusercontent.com/luabud/wordle/main/encoded_words.json\")\n",
    "res_text = await res.text()\n",
    "json_words = json.loads(res_text)\n",
    "encoded_words = json_words[\"encoded_words\"]\n",
    "\"\"\"\n",
    "import requests\n",
    "res = requests.get('https://raw.githubusercontent.com/luabud/wordle/main/encoded_words.json',headers={'Accept' : 'application/json'})\n",
    "json_words = res.json()\n",
    "encoded_words = json_words[\"encoded_words\"]\n",
    "\n"
   ]
  },
  {
   "cell_type": "code",
   "execution_count": 27,
   "metadata": {},
   "outputs": [],
   "source": [
    "GAME_LENGTH = 5\n",
    "current_turn = 0\n",
    "previous_guesses = {i+1 : \"\" for i in range(GAME_LENGTH)}\n",
    "answer_word = random.choice(encoded_words)"
   ]
  },
  {
   "cell_type": "code",
   "execution_count": 28,
   "metadata": {},
   "outputs": [],
   "source": [
    "def game_over(status):\n",
    "    if status == \"win\":\n",
    "        print(\"Congratulations, you guessed correctly!\")\n",
    "    else:\n",
    "        decoded_word = b64decode(answer_word).decode('utf-8')\n",
    "        print(f\"Sorry, you lost. The correct word was {decoded_word}\")\n",
    "\n",
    "    current_turn = 0\n",
    "    return\n",
    "\n",
    "def wrong_guess_length(guess_word):\n",
    "    if(len(guess_word) < 5):\n",
    "        print(\"Not enough characters.\")\n",
    "    else:\n",
    "        print(\"Too many characters.\")\n",
    "    print(\"Try a guess with 5 letters.\")\n",
    "\n",
    "def is_right_guess(guess, word):\n",
    "    return str(b64encode(guess.encode(\"utf-8\")), \"utf-8\") == word"
   ]
  },
  {
   "cell_type": "code",
   "execution_count": 29,
   "metadata": {},
   "outputs": [],
   "source": [
    "def print_output(guess_word, green_letters, yellow_letters, gray_letters):\n",
    "    output = []\n",
    "    for i, g in enumerate(guess_word):\n",
    "        pair = i, g\n",
    "        if pair in green_letters:\n",
    "            output.append(f\" {g} \")\n",
    "        elif pair in yellow_letters:\n",
    "            output.append(f\"({g})\")\n",
    "        else:\n",
    "            output.append(\" _ \")\n",
    "\n",
    "    previous_guesses[current_turn] = \" \".join(output)\n",
    "    for i in previous_guesses.keys():\n",
    "        print(f\"{i} : {previous_guesses[i]}\")"
   ]
  },
  {
   "cell_type": "code",
   "execution_count": 30,
   "metadata": {},
   "outputs": [],
   "source": [
    "def guess_word(guess_word):\n",
    "\n",
    "    if len(guess_word) != 5:\n",
    "        return wrong_guess_length(guess_word)\n",
    "\n",
    "    global current_turn\n",
    "    current_turn += 1\n",
    "\n",
    "    if current_turn > GAME_LENGTH:\n",
    "        return game_over(\"lose\")\n",
    "\n",
    "    answer_pairs = set(enumerate(str(b64decode(answer_word),  \"utf-8\")))\n",
    "    guess_pairs = set(enumerate(guess_word))\n",
    "\n",
    "    green_letters = answer_pairs & guess_pairs\n",
    "\n",
    "    answer_pairs -= green_letters\n",
    "    guess_pairs -= green_letters\n",
    "\n",
    "    yellow_letters = set()\n",
    "    for guess in guess_pairs:\n",
    "        for answer in answer_pairs:\n",
    "            if guess[1] == answer[1]:\n",
    "                answer_pairs.remove(answer)\n",
    "                yellow_letters.add(guess)\n",
    "                break\n",
    "\n",
    "    gray_letters = guess_pairs - yellow_letters\n",
    "\n",
    "    print_output(guess_word, green_letters, yellow_letters, gray_letters)\n",
    "\n",
    "    if is_right_guess(guess_word,answer_word):\n",
    "        return game_over(\"win\")\n",
    "    if current_turn == GAME_LENGTH:\n",
    "        return game_over(\"lose\")"
   ]
  },
  {
   "cell_type": "code",
   "execution_count": 31,
   "metadata": {},
   "outputs": [
    {
     "name": "stdout",
     "output_type": "stream",
     "text": [
      "1 :  _  (u)  _   _   _ \n",
      "2 : \n",
      "3 : \n",
      "4 : \n",
      "5 : \n"
     ]
    }
   ],
   "source": [
    "guess_word('ducyy')"
   ]
  }
 ],
 "metadata": {
  "kernelspec": {
   "display_name": "Python 3",
   "language": "python",
   "name": "python3"
  },
  "language_info": {
   "codemirror_mode": {
    "name": "ipython",
    "version": 3
   },
   "file_extension": ".py",
   "mimetype": "text/x-python",
   "name": "python",
   "nbconvert_exporter": "python",
   "pygments_lexer": "ipython3",
   "version": "3.11.2"
  },
  "orig_nbformat": 4,
  "vscode": {
   "interpreter": {
    "hash": "5238573367df39f7286bb46f9ff5f08f63a01a80960060ce41e3c79b190280fa"
   }
  }
 },
 "nbformat": 4,
 "nbformat_minor": 2
}
